{
  "nbformat": 4,
  "nbformat_minor": 0,
  "metadata": {
    "colab": {
      "provenance": []
    },
    "kernelspec": {
      "name": "python3",
      "display_name": "Python 3"
    },
    "language_info": {
      "name": "python"
    }
  },
  "cells": [
    {
      "cell_type": "markdown",
      "source": [
        "Programación para Ciencia de Datos 2024-2"
      ],
      "metadata": {
        "id": "HlpLnfE4gnZ2"
      }
    },
    {
      "cell_type": "markdown",
      "source": [
        "1. Escribe un predicado que verifica si una cadena de caracteres es un dígito."
      ],
      "metadata": {
        "id": "jeD5DuHRfiiP"
      }
    },
    {
      "cell_type": "code",
      "source": [
        "ch1=\"Esto\"  # Probamos con un string.\n",
        "ch2=\"2.0\"   # Probamos con un float.\n",
        "ch3=\"5\"     # Probamos con un int.\n",
        "ch4=\"14\"    # Probamos con un int de digitos mayor a 1.\n",
        "\n",
        "test=[ch1,ch2,ch3,ch4]  # Lista con las cadenas de string\n",
        "\n",
        "for i in test:\n",
        "  try:\n",
        "    type(int(i))\n",
        "    if len(i)==1:\n",
        "      print(f\"{i} pertenece a una cadena de caracteres de un digito\")\n",
        "  except ValueError:\n",
        "    continue"
      ],
      "metadata": {
        "colab": {
          "base_uri": "https://localhost:8080/"
        },
        "id": "2UVDhanLgmi_",
        "outputId": "221b6152-dad6-43ee-f401-4b6b2b4bef4f"
      },
      "execution_count": 47,
      "outputs": [
        {
          "output_type": "stream",
          "name": "stdout",
          "text": [
            "5 pertenece a una cadena de caracteres de un digito\n"
          ]
        }
      ]
    },
    {
      "cell_type": "markdown",
      "source": [
        "2. Escribe un predicado que verifica si una cadena de caracteres consiste únicamente de dígitos."
      ],
      "metadata": {
        "id": "s9kRmqabgUQH"
      }
    },
    {
      "cell_type": "code",
      "source": [
        "ch1=\"Esto\"  # Probamos con un string.\n",
        "ch2=\"2.0\"   # Probamos con un float.\n",
        "ch3=\"5\"     # Probamos con un int.\n",
        "ch4=\"14\"    # Probamos con un int de digitos mayor a 1.\n",
        "\n",
        "test=[ch1,ch2,ch3,ch4]  # Lista con las cadenas de string\n",
        "\n",
        "for i in test:\n",
        "  try:\n",
        "    type(int(i))\n",
        "    print(f\"{i} pertenece a una cadena de puros digitos\")\n",
        "  except ValueError:\n",
        "    continue"
      ],
      "metadata": {
        "colab": {
          "base_uri": "https://localhost:8080/"
        },
        "id": "KqpfGTrjgmWa",
        "outputId": "c90276e0-9830-4326-b33f-2e77d6ce2749"
      },
      "execution_count": 48,
      "outputs": [
        {
          "output_type": "stream",
          "name": "stdout",
          "text": [
            "5 pertenece a una cadena de puros digitos\n",
            "14 pertenece a una cadena de puros digitos\n"
          ]
        }
      ]
    },
    {
      "cell_type": "markdown",
      "source": [
        "3. Escribe una función que genere un dígito de forma aleatoria."
      ],
      "metadata": {
        "id": "Lo7J5gyJgVIv"
      }
    },
    {
      "cell_type": "code",
      "source": [
        "import random as rd\n",
        "print(rd.randrange(0,10,1))\n",
        "#print(rd.choice([1,2,3])) # Prints random item"
      ],
      "metadata": {
        "colab": {
          "base_uri": "https://localhost:8080/"
        },
        "id": "A_eqNft1gmLP",
        "outputId": "9723e71c-e822-42cb-a5e5-c609d47dfc37"
      },
      "execution_count": 79,
      "outputs": [
        {
          "output_type": "stream",
          "name": "stdout",
          "text": [
            "0\n"
          ]
        }
      ]
    },
    {
      "cell_type": "markdown",
      "source": [
        "4. Escribe una función que genera una cadena con $n$ dígitos aleatorios."
      ],
      "metadata": {
        "id": "k3QZrvIogWQx"
      }
    },
    {
      "cell_type": "code",
      "source": [
        "n=10  # Asignamos valor a n\n",
        "cna=\"\"  # Creamos lista de valores vacia, donde se guardara la cadena\n",
        "for i in range(n):\n",
        "  cna+=str(rd.randrange(0,10,1))\n",
        "print(f\"Cadena de {len(cna)} digitos:{cna}\")"
      ],
      "metadata": {
        "colab": {
          "base_uri": "https://localhost:8080/"
        },
        "id": "tzrxrR2xgl6o",
        "outputId": "9122f0f1-3283-4bce-83f6-6a2444d7ef04"
      },
      "execution_count": 101,
      "outputs": [
        {
          "output_type": "stream",
          "name": "stdout",
          "text": [
            "Cadena de 10 digitos:9226113230\n"
          ]
        }
      ]
    },
    {
      "cell_type": "markdown",
      "source": [
        "5. Escribe una función que calcule la distancia de Hamming de dos cadenas de dígitos del mismo tamaño."
      ],
      "metadata": {
        "id": "uGIw5ECugXNP"
      }
    },
    {
      "cell_type": "code",
      "source": [
        "dH=0          # Distancia de Hamming\n",
        "\n",
        "ch1=\"34127\"      # Cadena 1.\n",
        "ch2=\"34623\"      # Cadena 2.\n",
        "\n",
        "test=[ch1,ch2]  # Lista con las cadenas de string\n",
        "\n",
        "for i in range(len(ch1)):\n",
        "  if test[0][i]!=test[1][i]:\n",
        "    dH+=1\n",
        "print(f\"La cadena {ch1} y {ch2} tienen una distancia de Hamming de {dH}\")"
      ],
      "metadata": {
        "colab": {
          "base_uri": "https://localhost:8080/"
        },
        "id": "DI4pzXk22AhC",
        "outputId": "d4a460bd-ed84-4cc9-a9c1-dbd0f43e0fc8"
      },
      "execution_count": 122,
      "outputs": [
        {
          "output_type": "stream",
          "name": "stdout",
          "text": [
            "La cadena 34127 y 34623 tienen una distancia de Hamming de 2\n"
          ]
        }
      ]
    },
    {
      "cell_type": "markdown",
      "source": [
        "6. Escribe una función que dada una cadena de dígitos, regresa una cadena igual pero con un dígito cualquiera modificado a otra de forma aleatoria."
      ],
      "metadata": {
        "id": "RbIWLZcKgX1F"
      }
    },
    {
      "cell_type": "code",
      "source": [
        "ch=\"3864\"   # Cadena introducida\n",
        "chr=\"\"      # Cadena resultante\n",
        "ls=[]       # Lista de valores de cadena cambiantes\n",
        "\n",
        "ran=rd.randrange(0,len(ch),1)          # Elegimos la posicon del numero a cambiar\n",
        "for i in range(len(ch)):  # Convertimos la cadena en una lista\n",
        "  ls.append(i)\n",
        "  if i==ran:\n",
        "    ls[i]=str(rd.randrange(int(ch[i])+1,int(ch[i])+10,1)%10) # Cambiamos el numero por otro\n",
        "    if ls[i]==ch[i]:\n",
        "      raise Exception(\"Error, se quizo reemplazar el mismo numero\")     # Por si las moscas\n",
        "    print(f\"Cambiamos el digito en posicion {i+1}, con valor de {ch[i]}, por {ls[i]}\")\n",
        "  else:\n",
        "    ls[i]=ch[i]\n",
        "\n",
        "for i in ls:\n",
        "  chr+=i\n",
        "print(f\"Cadena de digitos original: {ch}\\nCadena de digitos modificada: {chr}\")"
      ],
      "metadata": {
        "colab": {
          "base_uri": "https://localhost:8080/"
        },
        "id": "PhCetM9S8fz4",
        "outputId": "0ad04a80-52f2-45d2-e6b0-b00b9e177279"
      },
      "execution_count": 252,
      "outputs": [
        {
          "output_type": "stream",
          "name": "stdout",
          "text": [
            "Cambiamos el digito en posicion 4, con valor de 4, por 8\n",
            "Cadena de digitos original: 3864\n",
            " Cadena de digitos modificada: 3868\n"
          ]
        }
      ]
    },
    {
      "cell_type": "markdown",
      "source": [
        "7. Escribe una función que dada una cadena de dígitos, regresa una cadena igual pero con dos dígito cualquiera modificados a otra de forma aleatoria."
      ],
      "metadata": {
        "id": "TYElDQFEgYv9"
      }
    },
    {
      "cell_type": "code",
      "source": [
        "ch=\"3864\"\n",
        "len(ch)"
      ],
      "metadata": {
        "colab": {
          "base_uri": "https://localhost:8080/"
        },
        "id": "xWDMnopdEulJ",
        "outputId": "470bc6fd-c918-449d-acc9-9bfcf3bfaeab"
      },
      "execution_count": 263,
      "outputs": [
        {
          "output_type": "execute_result",
          "data": {
            "text/plain": [
              "4"
            ]
          },
          "metadata": {},
          "execution_count": 263
        }
      ]
    },
    {
      "cell_type": "code",
      "source": [
        "ch=\"386487\"   # Cadena introducida\n",
        "chr=\"\"      # Cadena resultante\n",
        "ls=[]       # Lista de valores de cadena cambiantes\n",
        "\n",
        "ran=rd.randrange(0,len(ch),1)          # Elegimos la posicon del numero a cambiar\n",
        "ran2=rd.randrange(ran+1,ran+len(ch),1)%len(ch)   # Elegimos la otra posicion del numero a cambiar\n",
        "for i in range(len(ch)):  # Convertimos la cadena en una lista\n",
        "  ls.append(i)\n",
        "  if i==ran or i==ran2:\n",
        "    ls[i]=str(rd.randrange(int(ch[i])+1,int(ch[i])+10,1)%10) # Cambiamos el numero por otro\n",
        "    if ls[i]==ch[i]:\n",
        "      raise Exception(\"Error, se quizo reemplazar el mismo numero\")     # Por si las moscas\n",
        "    print(f\"Cambiamos el digito en posicion {i+1}, con valor de {ch[i]}, por {ls[i]}\")\n",
        "  else:\n",
        "    ls[i]=ch[i]\n",
        "\n",
        "for i in ls:\n",
        "  chr+=i\n",
        "print(f\"Cadena de digitos original: {ch}\\nCadena de digitos modificada: {chr}\")"
      ],
      "metadata": {
        "colab": {
          "base_uri": "https://localhost:8080/"
        },
        "id": "cHDWCQ9ygk_8",
        "outputId": "cae654c1-e2a9-4596-da31-09baecd29837"
      },
      "execution_count": 294,
      "outputs": [
        {
          "output_type": "stream",
          "name": "stdout",
          "text": [
            "Cambiamos el digito en posicion 3, con valor de 6, por 2\n",
            "Cambiamos el digito en posicion 4, con valor de 4, por 9\n",
            "Cadena de digitos original: 386487\n",
            "Cadena de digitos modificada: 382987\n"
          ]
        }
      ]
    },
    {
      "cell_type": "markdown",
      "source": [
        "8. Escribe una función que dada una cadena de dígitos, regresa una cadena igual pero con tres dígito cualquiera modificados a otra de forma aleatoria."
      ],
      "metadata": {
        "id": "AG7Sv6RygZmN"
      }
    },
    {
      "cell_type": "code",
      "source": [
        "# ch=\"1267889902359\" # Cadena recibida.\n",
        "N=10           # Digitos.\n",
        "n=3           # Digitos a modificar (en este caso 3).\n",
        "chr=\"\"        # Cadena resultante.\n",
        "lp={}         # Dic de pos:val.\n",
        "rp=[]         # Posiciones posibles.\n",
        "\n",
        "for i in range(0,N):\n",
        "  lp[i] = rd.randrange(0,10) # Posicion:Valor(aleatorio).\n",
        "  rp.append(i) # Posicion agregada a la lista de posiciones posibles.\n",
        "\n",
        "for i in lp:\n",
        "  chr+=str(lp[i])\n",
        "print(f\"Cadena original(aleatoria):\\n{chr}\")\n",
        "chr=\"\"\n",
        "\n",
        "# O en su defecto, obtenemos la cantidad de digitos al recibir una cadena.\n",
        "# N=len(ch)\n",
        "\n",
        "for i in range(0,n): # Los numeros a modificar\n",
        "   ran=rp[rd.randrange(0,len(rp))] # Generamos la posicion del numero a modificar.\n",
        "   print(f\"Cambiamos el digito en posicion {ran+1}, con valor de {lp[ran]}\") # Por si se quiere ver que numeros son modificados\n",
        "   lp[ran]=str(rd.randrange(int(lp[ran])+1,int(lp[ran])+10,1)%10) # Cambiamos el numero por otro\n",
        "   print(f\"por {lp[ran]}\") # Por si se quiere ver que numeros son modificados\n",
        "   rp.remove(ran) # Eliminamos la posicon del numero modificado, de la lista de valores posibles.\n",
        "\n",
        "for i in lp:\n",
        "  chr+=str(lp[i])\n",
        "print(f\"Cadena modificada:\\n{chr}\")"
      ],
      "metadata": {
        "colab": {
          "base_uri": "https://localhost:8080/"
        },
        "id": "02ZyalBhVZ2P",
        "outputId": "2a913e32-1038-47b7-c10b-7dff46c22edd"
      },
      "execution_count": 395,
      "outputs": [
        {
          "output_type": "stream",
          "name": "stdout",
          "text": [
            "Cadena original(aleatoria):\n",
            "4915\n",
            "Cadena modificada:\n",
            "3745\n"
          ]
        }
      ]
    },
    {
      "cell_type": "markdown",
      "source": [
        "9. Escribe una función que dada una cadena de $N$ dígitos, regresa una cadena igual pero con $n$ dígitos cualquiera modificados a otra de forma aleatoria, donde $n\\leq N$."
      ],
      "metadata": {
        "id": "oEhxv94pgaIF"
      }
    },
    {
      "cell_type": "code",
      "source": [
        "# ch=\"129356902359\" # Cadena recibida.\n",
        "N=11           # Digitos.\n",
        "n=11           # Digitos a modificar.\n",
        "chr=\"\"        # Cadena resultante.\n",
        "lp={}         # Dic de pos:val.\n",
        "rp=[]         # Posiciones posibles.\n",
        "\n",
        "for i in range(0,N):\n",
        "  lp[i] = rd.randrange(0,10) # Posicion:Valor(aleatorio).\n",
        "  rp.append(i) # Posicion agregada a la lista de posiciones posibles.\n",
        "\n",
        "for i in lp:\n",
        "  chr+=str(lp[i])\n",
        "print(f\"Cadena original(aleatoria):\\n{chr}\")\n",
        "chr=\"\"\n",
        "\n",
        "# O en su defecto, obtenemos la cantidad de digitos al recibir una cadena.\n",
        "# N=len(ch)\n",
        "\n",
        "for i in range(0,n): # Los numeros a modificar\n",
        "   ran=rp[rd.randrange(0,len(rp))] # Generamos la posicion del numero a modificar.\n",
        "   print(f\"Cambiamos el digito en posicion {ran+1}, con valor de {lp[ran]}\") # Por si se quiere ver que numeros son modificados\n",
        "   lp[ran]=str(rd.randrange(int(lp[ran])+1,int(lp[ran])+10,1)%10) # Cambiamos el numero por otro\n",
        "   print(f\"por {lp[ran]}\") # Por si se quiere ver que numeros son modificados\n",
        "   rp.remove(ran) # Eliminamos la posicon del numero modificado, de la lista de valores posibles.\n",
        "\n",
        "for i in lp:\n",
        "  chr+=str(lp[i])\n",
        "print(f\"Cadena modificada:\\n{chr}\")"
      ],
      "metadata": {
        "colab": {
          "base_uri": "https://localhost:8080/"
        },
        "id": "WDxGHh2JLcCZ",
        "outputId": "51c330f7-1264-440a-d5e5-a55cd75791fc"
      },
      "execution_count": 407,
      "outputs": [
        {
          "output_type": "stream",
          "name": "stdout",
          "text": [
            "Cadena original(aleatoria):\n",
            "07868133428\n",
            "Cambiamos el digito en posicion 7, con valor de 3\n",
            "por 2\n",
            "Cambiamos el digito en posicion 8, con valor de 3\n",
            "por 2\n",
            "Cambiamos el digito en posicion 4, con valor de 6\n",
            "por 7\n",
            "Cambiamos el digito en posicion 6, con valor de 1\n",
            "por 6\n",
            "Cambiamos el digito en posicion 10, con valor de 2\n",
            "por 0\n",
            "Cambiamos el digito en posicion 9, con valor de 4\n",
            "por 5\n",
            "Cambiamos el digito en posicion 3, con valor de 8\n",
            "por 0\n",
            "Cambiamos el digito en posicion 5, con valor de 8\n",
            "por 0\n",
            "Cambiamos el digito en posicion 2, con valor de 7\n",
            "por 6\n",
            "Cambiamos el digito en posicion 11, con valor de 8\n",
            "por 5\n",
            "Cambiamos el digito en posicion 1, con valor de 0\n",
            "por 3\n",
            "Cadena modificada:\n",
            "36070622505\n"
          ]
        }
      ]
    }
  ]
}