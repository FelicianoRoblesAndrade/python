{
  "cells": [
    {
      "cell_type": "markdown",
      "metadata": {
        "id": "HYH7MNwylq4k"
      },
      "source": [
        "<a href=\"https://colab.research.google.com/github/mcd-unison/material-programacion/blob/main/intro-python.ipynb\" target=\"_parent\"><img src=\"https://colab.research.google.com/assets/colab-badge.svg\" alt=\"Open In Colab\"/></a>"
      ]
    },
    {
      "cell_type": "markdown",
      "metadata": {
        "id": "BpLm_bFJlq4m"
      },
      "source": [
        "<center>\n",
        "<p><img src=\"https://mcd.unison.mx/wp-content/themes/awaken/img/logo_mcd.png\" width=\"100\">\n",
        "</p>\n",
        "\n",
        "\n",
        "\n",
        "# Curso Propedéutico en *Programación*\n",
        "\n",
        "## Introducción a `python` resolviendo preguntas\n",
        "\n",
        "\n",
        "**Julio Waissman Vilanova**\n",
        "\n"
      ]
    },
    {
      "cell_type": "markdown",
      "metadata": {
        "id": "8EqNjrzwlq4n"
      },
      "source": [
        "## Tipos\n",
        "\n",
        "¿Cuales son los tipos de datos básicos? Revisa los tipos siguientes:\n",
        "\n",
        "1. Tipos numéricos `int`, `float`, `complex`\n",
        "2. Cadenas de caracteres\n",
        "3. Tuplas\n",
        "4. Listas\n",
        "5. Diccionarios\n",
        "6. Conjuntos\n",
        "\n",
        "Da ejemplo de sobrecarga de operadores (en particular `+` y `*`)\n",
        "\n"
      ]
    },
    {
      "cell_type": "code",
      "execution_count": 170,
      "metadata": {
        "id": "QV5tE53clq4o"
      },
      "outputs": [],
      "source": [
        "# Definimos dos variables de str para dar ejemplo de sobrecarga de operadores\n",
        "a = \"Hola\"\n",
        "b = \"toto\""
      ]
    },
    {
      "cell_type": "code",
      "execution_count": 171,
      "metadata": {
        "colab": {
          "base_uri": "https://localhost:8080/",
          "height": 35
        },
        "id": "9ub2xp9ln6vo",
        "outputId": "67214cf3-1eae-4d54-ff4f-007e24eb85e5"
      },
      "outputs": [
        {
          "output_type": "execute_result",
          "data": {
            "text/plain": [
              "'Holatoto'"
            ],
            "application/vnd.google.colaboratory.intrinsic+json": {
              "type": "string"
            }
          },
          "metadata": {},
          "execution_count": 171
        }
      ],
      "source": [
        "a.__add__(b) # Lo cual es lo mismo que poner a+b"
      ]
    },
    {
      "cell_type": "markdown",
      "metadata": {
        "id": "SjCDNLxS9_r2"
      },
      "source": [
        "### Listas"
      ]
    },
    {
      "cell_type": "code",
      "execution_count": 172,
      "metadata": {
        "id": "i6AXRKwDotGm"
      },
      "outputs": [],
      "source": [
        "l = [2, 3.14, 'toto', [2, 5, 8]] # Una lista de objetos, cuyo tipo puede ser cualquiera"
      ]
    },
    {
      "cell_type": "code",
      "execution_count": 173,
      "metadata": {
        "colab": {
          "base_uri": "https://localhost:8080/"
        },
        "id": "sVl7bLADpJWr",
        "outputId": "1fa52a1a-0af4-4c1a-936c-a8c33f17ca71"
      },
      "outputs": [
        {
          "output_type": "execute_result",
          "data": {
            "text/plain": [
              "2"
            ]
          },
          "metadata": {},
          "execution_count": 173
        }
      ],
      "source": [
        "l[0] #l[n] Permite consultar el n objeto, tomando en cuenta que el indice inicia en 0"
      ]
    },
    {
      "cell_type": "code",
      "execution_count": 174,
      "metadata": {
        "colab": {
          "base_uri": "https://localhost:8080/"
        },
        "id": "uU8q3XscptTn",
        "outputId": "25386410-a566-4eb2-f4fb-7e2fdd3fb90c"
      },
      "outputs": [
        {
          "output_type": "execute_result",
          "data": {
            "text/plain": [
              "[2, 5, 8]"
            ]
          },
          "metadata": {},
          "execution_count": 174
        }
      ],
      "source": [
        "l[-1] #Inclusive pudiendo seleccionar los ultimos elementos como \"-n\""
      ]
    },
    {
      "cell_type": "code",
      "execution_count": 175,
      "metadata": {
        "colab": {
          "base_uri": "https://localhost:8080/"
        },
        "id": "6_9mUoPJpxeC",
        "outputId": "f2ebf3c0-9410-489a-9822-cb8bc19e9de1"
      },
      "outputs": [
        {
          "output_type": "execute_result",
          "data": {
            "text/plain": [
              "8"
            ]
          },
          "metadata": {},
          "execution_count": 175
        }
      ],
      "source": [
        "l[-1][-1] #Y de ser posible, seleccionar elementos dentro de objetos"
      ]
    },
    {
      "cell_type": "code",
      "execution_count": 176,
      "metadata": {
        "colab": {
          "base_uri": "https://localhost:8080/",
          "height": 0
        },
        "id": "ORwRWNrUqAht",
        "outputId": "6cdb5fb5-fe5c-47e6-f49c-25376605884d"
      },
      "outputs": [
        {
          "output_type": "execute_result",
          "data": {
            "text/plain": [
              "'o'"
            ],
            "application/vnd.google.colaboratory.intrinsic+json": {
              "type": "string"
            }
          },
          "metadata": {},
          "execution_count": 176
        }
      ],
      "source": [
        "l[2][1]"
      ]
    },
    {
      "cell_type": "code",
      "execution_count": 177,
      "metadata": {
        "colab": {
          "base_uri": "https://localhost:8080/"
        },
        "id": "xKH8F0gkpLZh",
        "outputId": "399d2f5a-1b03-42e1-c8a9-07ac31a55107"
      },
      "outputs": [
        {
          "output_type": "execute_result",
          "data": {
            "text/plain": [
              "[2, 3.14]"
            ]
          },
          "metadata": {},
          "execution_count": 177
        }
      ],
      "source": [
        "l[:2] #: sirve para delimitar rangos"
      ]
    },
    {
      "cell_type": "code",
      "execution_count": 178,
      "metadata": {
        "colab": {
          "base_uri": "https://localhost:8080/"
        },
        "id": "OHMfEQc_8ZTB",
        "outputId": "afc0474a-6d88-4ad1-c5a7-eea485cd5391"
      },
      "outputs": [
        {
          "output_type": "execute_result",
          "data": {
            "text/plain": [
              "[2, 3.14, 'toto', [2, 5, 8]]"
            ]
          },
          "metadata": {},
          "execution_count": 178
        }
      ],
      "source": [
        "l[0:2] + l[2:]"
      ]
    },
    {
      "cell_type": "code",
      "execution_count": 179,
      "metadata": {
        "colab": {
          "base_uri": "https://localhost:8080/"
        },
        "id": "3EKK-_xj9DcP",
        "outputId": "7687da00-6865-4402-c4b5-4f2ae968c6ae"
      },
      "outputs": [
        {
          "output_type": "execute_result",
          "data": {
            "text/plain": [
              "[2, 3.14, 'toto', [2, 5, 8], 2]"
            ]
          },
          "metadata": {},
          "execution_count": 179
        }
      ],
      "source": [
        "l.append(2) # Para agregar elementos a una lista\n",
        "l"
      ]
    },
    {
      "cell_type": "code",
      "execution_count": 180,
      "metadata": {
        "colab": {
          "base_uri": "https://localhost:8080/"
        },
        "id": "brfBbw7I9Jyg",
        "outputId": "0d2d1d5e-e9cd-4b02-c845-8cfa0e727d80"
      },
      "outputs": [
        {
          "output_type": "execute_result",
          "data": {
            "text/plain": [
              "2"
            ]
          },
          "metadata": {},
          "execution_count": 180
        }
      ],
      "source": [
        "l.count(2) # Contar cuantas veces aparece algo"
      ]
    },
    {
      "cell_type": "code",
      "execution_count": 181,
      "metadata": {
        "colab": {
          "base_uri": "https://localhost:8080/"
        },
        "id": "nw8p9N1z9tWt",
        "outputId": "cb76248f-44b9-4d0a-c2ba-16611df6efb8"
      },
      "outputs": [
        {
          "output_type": "execute_result",
          "data": {
            "text/plain": [
              "[2, 3.14, 'toto', [2, 5, 8], 2, 2]"
            ]
          },
          "metadata": {},
          "execution_count": 181
        }
      ],
      "source": [
        "l.append(2) # Para agregar elementos a una lista\n",
        "l"
      ]
    },
    {
      "cell_type": "code",
      "execution_count": 182,
      "metadata": {
        "colab": {
          "base_uri": "https://localhost:8080/"
        },
        "id": "aCQ5kVuA7kTt",
        "outputId": "faf85169-78a5-4f36-b755-d56fd9cc05d6"
      },
      "outputs": [
        {
          "output_type": "execute_result",
          "data": {
            "text/plain": [
              "[2, 3.14, 'toto', [2, 5, 8], 2]"
            ]
          },
          "metadata": {},
          "execution_count": 182
        }
      ],
      "source": [
        "l.pop() # Para eliminar elementos (n) donde n es el index\n",
        "l"
      ]
    },
    {
      "cell_type": "markdown",
      "metadata": {
        "id": "Iy_zxMyA-CVc"
      },
      "source": [
        "### Diccionarios"
      ]
    },
    {
      "cell_type": "code",
      "execution_count": 183,
      "metadata": {
        "colab": {
          "base_uri": "https://localhost:8080/"
        },
        "id": "NpNKO2Jt-Dl2",
        "outputId": "b1c89900-8385-4f62-ac1c-827368113644"
      },
      "outputs": [
        {
          "output_type": "execute_result",
          "data": {
            "text/plain": [
              "{'a': [2, 3.14, 'toto', [2, 5, 8], 2], 3: 90}"
            ]
          },
          "metadata": {},
          "execution_count": 183
        }
      ],
      "source": [
        "d = {'a': l, 3: 90} # Definimos un diccionario\n",
        "d"
      ]
    },
    {
      "cell_type": "code",
      "execution_count": 184,
      "metadata": {
        "colab": {
          "base_uri": "https://localhost:8080/"
        },
        "id": "2mmsFyIL-QiL",
        "outputId": "ab0a6408-c20e-4c69-a729-e52b713df111"
      },
      "outputs": [
        {
          "output_type": "execute_result",
          "data": {
            "text/plain": [
              "dict_keys(['a', 3])"
            ]
          },
          "metadata": {},
          "execution_count": 184
        }
      ],
      "source": [
        "d.keys() # Muestra las llaves del diccionario"
      ]
    },
    {
      "cell_type": "code",
      "execution_count": 185,
      "metadata": {
        "colab": {
          "base_uri": "https://localhost:8080/"
        },
        "id": "prCrH5xy-e7y",
        "outputId": "605a7dd8-2181-4cc3-ad55-dc5bbdb8f2a7"
      },
      "outputs": [
        {
          "output_type": "execute_result",
          "data": {
            "text/plain": [
              "dict_values([[2, 3.14, 'toto', [2, 5, 8], 2], 90])"
            ]
          },
          "metadata": {},
          "execution_count": 185
        }
      ],
      "source": [
        "d.values() # Muestra los valores de las llaves correspondientes"
      ]
    },
    {
      "cell_type": "code",
      "execution_count": 186,
      "metadata": {
        "colab": {
          "base_uri": "https://localhost:8080/"
        },
        "id": "cSSSSWu4-kxN",
        "outputId": "3be8cbd0-96a5-4184-b61e-b8cc9693bde8"
      },
      "outputs": [
        {
          "output_type": "execute_result",
          "data": {
            "text/plain": [
              "dict_items([('a', [2, 3.14, 'toto', [2, 5, 8], 2]), (3, 90)])"
            ]
          },
          "metadata": {},
          "execution_count": 186
        }
      ],
      "source": [
        "d.items() # Te muestra los pares ordenados de los elementos"
      ]
    },
    {
      "cell_type": "code",
      "execution_count": 187,
      "metadata": {
        "colab": {
          "base_uri": "https://localhost:8080/"
        },
        "id": "A7kQD5Yw-rQF",
        "outputId": "f8366db0-ff30-4e77-858d-a3f5df2c6e19"
      },
      "outputs": [
        {
          "output_type": "execute_result",
          "data": {
            "text/plain": [
              "[2, 3.14, 'toto', [2, 5, 8], 2]"
            ]
          },
          "metadata": {},
          "execution_count": 187
        }
      ],
      "source": [
        "d['a'] # Muestra lo que se encuentra en la llave 'a'"
      ]
    },
    {
      "cell_type": "code",
      "execution_count": 188,
      "metadata": {
        "colab": {
          "base_uri": "https://localhost:8080/"
        },
        "id": "3VvTgiNP4X3W",
        "outputId": "dca6ed86-12bb-4781-f296-c7601560d2f7"
      },
      "outputs": [
        {
          "output_type": "execute_result",
          "data": {
            "text/plain": [
              "[2, 3.14, 'toto', [2, 5, 8], 2]"
            ]
          },
          "metadata": {},
          "execution_count": 188
        }
      ],
      "source": [
        "d['a'] # Muestra lo que se encuentra en la llave 'a'"
      ]
    },
    {
      "cell_type": "code",
      "execution_count": 189,
      "metadata": {
        "colab": {
          "base_uri": "https://localhost:8080/"
        },
        "id": "CVJynlii4mmY",
        "outputId": "0c63fb16-aa77-4f13-e664-fb274d2c2bf6"
      },
      "outputs": [
        {
          "output_type": "execute_result",
          "data": {
            "text/plain": [
              "8"
            ]
          },
          "metadata": {},
          "execution_count": 189
        }
      ],
      "source": [
        "d['a'][3][-1] # Muestra lo que se encuentra en la llave 'a', 4 elemento, ultimo elemento"
      ]
    },
    {
      "cell_type": "code",
      "execution_count": 190,
      "metadata": {
        "colab": {
          "base_uri": "https://localhost:8080/"
        },
        "id": "FQqe3Rs8-ubi",
        "outputId": "72e36cfa-d65d-4b1b-f5be-46cc065ba52f"
      },
      "outputs": [
        {
          "output_type": "execute_result",
          "data": {
            "text/plain": [
              "90"
            ]
          },
          "metadata": {},
          "execution_count": 190
        }
      ],
      "source": [
        "d[3] # Muestra lo que se encuentra en la llave 3"
      ]
    },
    {
      "cell_type": "code",
      "execution_count": 191,
      "metadata": {
        "id": "MgD-P-7Z-0Ks"
      },
      "outputs": [],
      "source": [
        "d['toto'] = 30 # Agregamos una entrada al diccionario, aunque no es buena practica"
      ]
    },
    {
      "cell_type": "code",
      "execution_count": 192,
      "metadata": {
        "colab": {
          "base_uri": "https://localhost:8080/"
        },
        "id": "Nap130gR-8TN",
        "outputId": "ebb1f144-876b-4fce-fad2-83a0b5e939dc"
      },
      "outputs": [
        {
          "output_type": "execute_result",
          "data": {
            "text/plain": [
              "0"
            ]
          },
          "metadata": {},
          "execution_count": 192
        }
      ],
      "source": [
        "d.get('tato', 0) # Consultar si existe una llave"
      ]
    },
    {
      "cell_type": "markdown",
      "metadata": {
        "id": "I-tbqzY3lq4p"
      },
      "source": [
        "## ¿Que significa que unos tipos sean *mutables* y otros *inmutables*?\n",
        "\n",
        "Realiza un pequeño programa donde quede claro lo que significa que un tipo de datos sea mutable, e ilustra el uso del método `copy.deepcopy()`."
      ]
    },
    {
      "cell_type": "code",
      "execution_count": 193,
      "metadata": {
        "colab": {
          "base_uri": "https://localhost:8080/"
        },
        "id": "cdy-3rDxlq4p",
        "outputId": "78713d3c-9644-4cc6-e13e-64cfc98ab339"
      },
      "outputs": [
        {
          "output_type": "stream",
          "name": "stdout",
          "text": [
            "[2, 3.14, 'toto', [2, 5, 8], 2, 1.44]\n",
            "[2, 3.14, 'toto', [2, 5, 8], 2, 1.44]\n"
          ]
        }
      ],
      "source": [
        "l2 = l # Definimos que la lista l2 y l son la misma\n",
        "l2.append(1.44) # Agregamos un elemento a la lista\n",
        "\n",
        "print(l)\n",
        "print(l2)"
      ]
    },
    {
      "cell_type": "code",
      "execution_count": 194,
      "metadata": {
        "id": "zVN-tCPGArkb"
      },
      "outputs": [],
      "source": [
        "def pone(lista, valor):\n",
        "  \"\"\"\n",
        "  Funcion para regresar una lista con valor agregado\n",
        "  \"\"\"\n",
        "  lista2 = lista[:] # Una copia de todos los valores\n",
        "  lista2.append(valor) # Agregar el valor introducido a la funcion\n",
        "  return lista2"
      ]
    },
    {
      "cell_type": "code",
      "execution_count": 195,
      "metadata": {
        "colab": {
          "base_uri": "https://localhost:8080/"
        },
        "id": "1p9CBPKaBEdz",
        "outputId": "bb201130-d282-422b-9202-de9fc7980866"
      },
      "outputs": [
        {
          "output_type": "stream",
          "name": "stdout",
          "text": [
            "[2, 3.14, 'toto', [2, 5, 8], 2, 1.44]\n",
            "[2, 3.14, 'toto', [2, 5, 8], 2, 1.44, 'titi']\n"
          ]
        }
      ],
      "source": [
        "l2 = pone(l, 'titi')\n",
        "print(l)\n",
        "print(l2)"
      ]
    },
    {
      "cell_type": "markdown",
      "metadata": {
        "id": "qj1zV9xtCYob"
      },
      "source": [
        "Pero surge el problema de listas dentro de listas, por lo cual esta solucion no aplicaria en esos casos, ya que nomas se copiaria la externa, por lo que recurrimos a la funcion de deepcopy"
      ]
    },
    {
      "cell_type": "code",
      "execution_count": 196,
      "metadata": {
        "id": "u-8ZxJhlCjWO"
      },
      "outputs": [],
      "source": [
        "import copy\n",
        "\n",
        "def pone2(lista, valor):\n",
        "  \"\"\"\n",
        "  Funcion para regresar una lista con valor agregado considerando listas nesteadas\n",
        "  \"\"\"\n",
        "  lista2 = copy.deepcopy(lista) # Una copia de todos los valores\n",
        "  lista2.append(valor) # Agregar el valor introducido a la funcion\n",
        "  return lista2"
      ]
    },
    {
      "cell_type": "code",
      "execution_count": 197,
      "metadata": {
        "colab": {
          "base_uri": "https://localhost:8080/"
        },
        "id": "a_-BrJYsCstB",
        "outputId": "45b8f1f0-0f35-44f0-c784-d68c6d662864"
      },
      "outputs": [
        {
          "output_type": "stream",
          "name": "stdout",
          "text": [
            "[2, 3.14, 'toto', [2, 5, 8], 2, 1.44]\n",
            "[2, 3.14, 'toto', [2, 5, 8], 2, 1.44, 'titi']\n"
          ]
        }
      ],
      "source": [
        "l2 = pone2(l, 'titi')\n",
        "print(l)\n",
        "print(l2)"
      ]
    },
    {
      "cell_type": "markdown",
      "metadata": {
        "id": "WmzBba2olq4p"
      },
      "source": [
        "## *Comprehension* de listas, conjuntos y diccionarios\n",
        "\n",
        "Escribe, en una sola linea, una expresión que genere una lista con la raiz cuadrada de todos los números enteros que se encuentran entre $1$ y $n$\n",
        "que sean divisibles por $3$ y $7$ y que el dígito menos significativo del número sea $6$."
      ]
    },
    {
      "cell_type": "code",
      "execution_count": 198,
      "metadata": {
        "colab": {
          "base_uri": "https://localhost:8080/"
        },
        "id": "Azhy2790lq4q",
        "outputId": "6a6d9f00-1240-4b17-bea8-2625750cfdb1"
      },
      "outputs": [
        {
          "output_type": "stream",
          "name": "stdout",
          "text": [
            "{126: 11.224972160321824, 336: 18.33030277982336, 546: 23.366642891095847, 756: 27.49545416973504, 966: 31.080540535840107, 1176: 34.292856398964496, 1386: 37.22902093797257, 1596: 39.949968710876355, 1806: 42.49705872175156, 2016: 44.8998886412873, 2226: 47.18050444834179, 2436: 49.35585071701227, 2646: 51.43928459844674, 2856: 53.44155686354955, 3066: 55.37147279962851, 3276: 57.23635208501674, 3486: 59.04235767650204, 3696: 60.794736614282655, 3906: 62.49799996799898, 4116: 64.15605972938177, 4326: 65.7723346096214, 4536: 67.34983296193094, 4746: 68.89121859859934, 4956: 70.39886362719217, 5166: 71.87489130426563, 5376: 73.32121111929344, 5586: 74.73954776421918, 5796: 76.13146524269712, 6006: 77.49838707999025, 6216: 78.8416133777081, 6426: 80.16233529532433, 6636: 81.4616474176652, 6846: 82.74055837375042, 7056: 84.0, 7266: 85.24083528450434, 7476: 86.46386528486914, 7686: 87.66983517721475, 7896: 88.85943956609225, 8106: 90.033327162779, 8316: 91.19210492142398, 8526: 92.33634170791044, 8736: 93.46657156438339, 8946: 94.58329662260668, 9156: 95.68698971124549, 9366: 96.77809669548166, 9576: 97.85703858180054, 9786: 98.92421341612983, 9996: 99.9799979995999}\n"
          ]
        }
      ],
      "source": [
        "n = 10_000\n",
        "\n",
        "# Escribe aqui el *one linner*\n",
        "lista = {\n",
        "    x: x**(1/2) for x in range(1, n+1)\n",
        "    if x % 3 == 0 and x % 7 == 0 and x % 10 == 6\n",
        "    }\n",
        "print(lista)"
      ]
    },
    {
      "cell_type": "code",
      "execution_count": 199,
      "metadata": {
        "colab": {
          "base_uri": "https://localhost:8080/"
        },
        "id": "a3uMePOjYBLx",
        "outputId": "7384c98d-4182-4cbe-ce8b-86a97410a1e9"
      },
      "outputs": [
        {
          "output_type": "stream",
          "name": "stdout",
          "text": [
            "['2', '3.14', 'toto', '[2, 5, 8]', '2', '1.44']\n",
            "['2', '3.14', 'toto', '[2, 5, 8]', '2', '1.44']\n"
          ]
        }
      ],
      "source": [
        "# Hacemos que todos los elementos de la lista sean string\n",
        "\n",
        "# Con if\n",
        "l3 = [x if type(x) == type('string') else str(x) for x in l] # If\n",
        "print(l3)\n",
        "\n",
        "# Con for\n",
        "l3= []\n",
        "for x in l:\n",
        "  if type(x) == type('string'):\n",
        "    l3.append(x)\n",
        "  else:\n",
        "    l3.append(str(x))\n",
        "print(l3)"
      ]
    },
    {
      "cell_type": "code",
      "execution_count": 200,
      "metadata": {
        "colab": {
          "base_uri": "https://localhost:8080/"
        },
        "id": "AFC0JwR_bH9e",
        "outputId": "68f718f4-bda3-4387-e9f0-a45edc600786"
      },
      "outputs": [
        {
          "output_type": "execute_result",
          "data": {
            "text/plain": [
              "<generator object <genexpr> at 0x7924a56f0350>"
            ]
          },
          "metadata": {},
          "execution_count": 200
        }
      ],
      "source": [
        "l3 = (x if type(x) == type('string') else str(x) for x in l) #Generador\n",
        "l3"
      ]
    },
    {
      "cell_type": "code",
      "execution_count": 201,
      "metadata": {
        "colab": {
          "base_uri": "https://localhost:8080/"
        },
        "id": "fRrJeLIHaw64",
        "outputId": "b0206be4-bc02-4d1c-e6e5-b983de64aba2"
      },
      "outputs": [
        {
          "output_type": "stream",
          "name": "stdout",
          "text": [
            "2\n",
            "3.14\n",
            "toto\n",
            "[2, 5, 8]\n",
            "2\n",
            "1.44\n"
          ]
        }
      ],
      "source": [
        "for x in l3:\n",
        "  print(x)"
      ]
    },
    {
      "cell_type": "code",
      "execution_count": 202,
      "metadata": {
        "id": "rs2J07G-bz_D"
      },
      "outputs": [],
      "source": [
        "l4=l2[:]\n",
        "l4[3] = 2"
      ]
    },
    {
      "cell_type": "code",
      "execution_count": 203,
      "metadata": {
        "colab": {
          "base_uri": "https://localhost:8080/"
        },
        "id": "MaBrJdEWb_9l",
        "outputId": "2fe4589e-53de-4807-d280-1512b118a959"
      },
      "outputs": [
        {
          "output_type": "stream",
          "name": "stdout",
          "text": [
            "{1.44, 2, 3.14, 'toto', 'titi'}\n",
            "[2, 3.14, 'toto', [2, 5, 8], 2, 1.44, 'titi']\n"
          ]
        }
      ],
      "source": [
        "l4=set(l4) # Set lo convierte en un conjunto, una lista de objetos sin orden\n",
        "print(l4)  # (lo cual puede ser apreciado, al ver como los elementos repetidos desaparecen)\n",
        "print(l2)"
      ]
    },
    {
      "cell_type": "markdown",
      "metadata": {
        "id": "uMFnHx27lq4r"
      },
      "source": [
        "## Funciones\n",
        "\n",
        "Escribe una función que:\n",
        "\n",
        "1. reciba una lista de elementos (letras, números, lo que sea),\n",
        "2. cuente la ocurrencia de cada elemento en la lista,\n",
        "3. devuelva las ocurrencias en forma de diccionario,\n",
        "4. si imprime es True, imprima un histograma de ocurrencias, por ejemplo:\n",
        "\n",
        "```python\n",
        "lista = [1,'a',1, 13, 'hola', 'a', 1, 1, 'a', 1]\n",
        "\n",
        "d = funcion_ejemplo(lista, imprime = True)\n",
        "\n",
        "1       *****   (5 -> 50%)\n",
        "'a'     ***     (3 -> 30%)\n",
        "13      *       (1 -> 10%)\n",
        "'hola'  *       (1 -> 10%)\n",
        "\n",
        "```"
      ]
    },
    {
      "cell_type": "code",
      "execution_count": 204,
      "metadata": {
        "id": "PHux4LF3lQ6C"
      },
      "outputs": [],
      "source": [
        "# Escribe la función aquí\n",
        "def funcion_ejemplo(lista,imprime=False):\n",
        "  \"\"\"\n",
        "  Genera un diccionario con las ocurrencias de cada elemento\n",
        "  diferente de lista\n",
        "\n",
        "  Si imprime==True, imprime en pantalla las ocurrencias\n",
        "  \"\"\"\n",
        "  d={x: lista.count(x) for x in set(lista)}\n",
        "\n",
        "  if imprime:\n",
        "    for x in d.keys():\n",
        "      print(f\"{x}\\t{d[x]*'*'}\\t({d[x]} -> {d[x]/len(lista):.0%})\")\n",
        "  return d"
      ]
    },
    {
      "cell_type": "code",
      "execution_count": 205,
      "metadata": {
        "colab": {
          "base_uri": "https://localhost:8080/"
        },
        "id": "A4ws6sIPkLxc",
        "outputId": "37a724c3-6641-49ce-8b99-763f99452a87"
      },
      "outputs": [
        {
          "output_type": "stream",
          "name": "stdout",
          "text": [
            "1\t*****\t(5 -> 50%)\n",
            "a\t***\t(3 -> 30%)\n",
            "13\t*\t(1 -> 10%)\n",
            "hola\t*\t(1 -> 10%)\n",
            "{1: 5, 'a': 3, 13: 1, 'hola': 1}\n"
          ]
        }
      ],
      "source": [
        "# Realiza pruebas aquí\n",
        "lista = [1,'a',1, 13, 'hola', 'a', 1, 1, 'a', 1]\n",
        "d = funcion_ejemplo(lista, imprime = True)\n",
        "print(d)"
      ]
    },
    {
      "cell_type": "markdown",
      "metadata": {
        "id": "tUOmHZJTlq4s"
      },
      "source": [
        "Escribe una función que modifique un diccionario y regrese el diccionario modificado y una copia del original, donde cada entrada\n",
        "del diccionario sea una lista de valores. Ten en cuenta que si una entrada del diccionario es de tipo mutable, al modificarlo en la\n",
        "copia se modifica el original. Utiliza el modulo `copy` para evitar este problema. Ejemplo de la función:\n",
        "\n",
        "```python\n",
        "dic1 = {'Pepe':[12, 'enero', 1980], 'Carolina':[15,'mayo',1975],'Paco':[10,'nov',1970]}\n",
        "dic2 = fundicos(dic1, 'Pepe', 1, 'febrero')\n",
        "\n",
        "print(dic1)\n",
        "{'Pepe':[12, 'enero', 1980], 'Carolina':[15,'mayo',1975],'Paco':[10,'nov',1970]}\n",
        "\n",
        "print(dic2)\n",
        "{'Pepe':[12, 'febrero', 1980], 'Carolina':[15,'mayo',1975],'Paco':[10,'nov',1970]}\n",
        "```"
      ]
    },
    {
      "cell_type": "code",
      "execution_count": 206,
      "metadata": {
        "id": "uRY5RLLvlq4s"
      },
      "outputs": [],
      "source": [
        "# import copy #por si aun no se ha importado\n",
        "# Escribe la función fundicos aquí\n",
        "def fundicos (dic, k,p,v):\n",
        "  \"\"\"\n",
        "  Funcion que agrega una entrada a un diccionario y regresa el nuevo y el viejo\n",
        "  dic=Diccionario\n",
        "  k=key\n",
        "  p=position value\n",
        "  m=value\n",
        "  \"\"\"\n",
        "  dicn=copy.deepcopy(dic)\n",
        "  dicn[k][p]=v\n",
        "  return dicn"
      ]
    },
    {
      "cell_type": "code",
      "execution_count": 207,
      "metadata": {
        "colab": {
          "base_uri": "https://localhost:8080/"
        },
        "id": "tHOZhoMilq4s",
        "outputId": "e3e3ad9c-fb01-4891-9c2a-3d5f5b6a157a"
      },
      "outputs": [
        {
          "output_type": "stream",
          "name": "stdout",
          "text": [
            "{'Pepe': [12, 'enero', 1980], 'Carolina': [15, 'mayo', 1975], 'Paco': [10, 'nov', 1970]}\n",
            "{'Pepe': [12, 'febrero', 1980], 'Carolina': [15, 'mayo', 1975], 'Paco': [10, 'nov', 1970]}\n"
          ]
        }
      ],
      "source": [
        "# Realiza pruebas de fundicos aquí\n",
        "dic1 = {'Pepe':[12, 'enero', 1980], 'Carolina':[15,'mayo',1975],'Paco':[10,'nov',1970]}\n",
        "dic2 = fundicos(dic1, 'Pepe', 1, 'febrero')\n",
        "\n",
        "print(dic1)\n",
        "print(dic2)"
      ]
    },
    {
      "cell_type": "markdown",
      "metadata": {
        "id": "u0Bh7T3Tlq4t"
      },
      "source": [
        "### Generadores\n",
        "\n",
        "Escribe un generador que reciba una lista y genere todas las permutaciones que se puedan hacer con los elementos de la lista"
      ]
    },
    {
      "cell_type": "code",
      "execution_count": 208,
      "metadata": {
        "id": "lQGlQscblq4t"
      },
      "outputs": [],
      "source": [
        "# Escribe aqui fun2\n",
        "\n",
        "def permutaciones(lista):\n",
        "    \"\"\"\n",
        "    Permutaciones de los elementos de una lista.\n",
        "\n",
        "    Devuelve un generador con todas las permutaciones posibles de los elementos de la lista de entrada\n",
        "    \"\"\"\n",
        "    #TODO: Implementar la función\n",
        "    if len(lista) == 0:\n",
        "      yield lista\n",
        "    else:\n",
        "      for (i,elemento) in enumerate(lista):\n",
        "        lista_menos_elem = lista[:i] + lista[i+1:]\n",
        "        for perm in permutaciones(lista_menos_elem):\n",
        "          yield [elemento] + perm"
      ]
    },
    {
      "cell_type": "code",
      "execution_count": 209,
      "metadata": {
        "colab": {
          "base_uri": "https://localhost:8080/"
        },
        "id": "DxB_7fI4lq4t",
        "outputId": "c7a8698e-5808-4e1f-ea34-114c1ba74d9c"
      },
      "outputs": [
        {
          "output_type": "stream",
          "name": "stdout",
          "text": [
            "['a', 'b', 'c', 'd']\n",
            "['a', 'b', 'd', 'c']\n",
            "['a', 'c', 'b', 'd']\n",
            "['a', 'c', 'd', 'b']\n",
            "['a', 'd', 'b', 'c']\n",
            "['a', 'd', 'c', 'b']\n",
            "['b', 'a', 'c', 'd']\n",
            "['b', 'a', 'd', 'c']\n",
            "['b', 'c', 'a', 'd']\n",
            "['b', 'c', 'd', 'a']\n",
            "['b', 'd', 'a', 'c']\n",
            "['b', 'd', 'c', 'a']\n",
            "['c', 'a', 'b', 'd']\n",
            "['c', 'a', 'd', 'b']\n",
            "['c', 'b', 'a', 'd']\n",
            "['c', 'b', 'd', 'a']\n",
            "['c', 'd', 'a', 'b']\n",
            "['c', 'd', 'b', 'a']\n",
            "['d', 'a', 'b', 'c']\n",
            "['d', 'a', 'c', 'b']\n",
            "['d', 'b', 'a', 'c']\n",
            "['d', 'b', 'c', 'a']\n",
            "['d', 'c', 'a', 'b']\n",
            "['d', 'c', 'b', 'a']\n"
          ]
        }
      ],
      "source": [
        "# Realiza pruebas de fun2 aquí\n",
        "for p in permutaciones(['a', 'b', 'c', 'd']):\n",
        "    print(p)"
      ]
    },
    {
      "cell_type": "markdown",
      "metadata": {
        "id": "9DujO3S6lq4t"
      },
      "source": [
        "Ahora escribe una funcipn que reciba 4 digitos del 0 al 9, y devuelva una lista con todas las horas váidas que se puedan hacer con estos dígitos en forma de lista de strings con la forma `\"HH:MM\"`."
      ]
    },
    {
      "cell_type": "code",
      "source": [
        "def horas_validas(lista):\n",
        "  hora=[]\n",
        "  for p in permutaciones(lista):\n",
        "    if p[0]<3 and p[2]<6: # Verificamos el espacio de horas (decenas) y minutos (decenas)\n",
        "      if p[0]==2 and p[1]>3: # Agregamos la excepcion de minutos (unidades) cuando horas (decenas) = 2\n",
        "        continue # Si no es valido, continuar con el siguiente elemento de la lista\n",
        "      else:\n",
        "        print(f\"{str(p[0])+str(p[1])}:{str(p[2])+str(p[3])}\") # Imprimir la fecha"
      ],
      "metadata": {
        "id": "RZNo8q2LDePK"
      },
      "execution_count": 210,
      "outputs": []
    },
    {
      "cell_type": "markdown",
      "metadata": {
        "id": "dnXiod1ulq4u"
      },
      "source": [
        "Validando:"
      ]
    },
    {
      "cell_type": "code",
      "source": [
        "lista=[1,2,3,7]\n",
        "horas_validas(lista)"
      ],
      "metadata": {
        "colab": {
          "base_uri": "https://localhost:8080/"
        },
        "id": "sRsc-Q9-_NZn",
        "outputId": "cac4854d-fd89-40c7-c326-501f45b41007"
      },
      "execution_count": 211,
      "outputs": [
        {
          "output_type": "stream",
          "name": "stdout",
          "text": [
            "12:37\n",
            "13:27\n",
            "17:23\n",
            "17:32\n",
            "21:37\n",
            "23:17\n"
          ]
        }
      ]
    },
    {
      "cell_type": "markdown",
      "metadata": {
        "id": "vIymgYmdlq4v"
      },
      "source": [
        "Escribe una función, lo más compacta posible, que escoja entre los 3 patrones ascii a continuación, e imprima en pantalla\n",
        "el deseado, pero de dimensión $n$ ($n \\ge 4$), toma en cuanta que para algunos valores de $n$ habrá\n",
        "algún(os) patrones que no se puedan hacer.\n",
        "\n",
        "```\n",
        "          *             ++++           oooooooo\n",
        "          **            ++++           ooo  ooo\n",
        "          ***           ++++           oo    oo\n",
        "          ****          ++++           o      o\n",
        "          *****             ++++       o      o\n",
        "          ******            ++++       oo    oo\n",
        "          *******           ++++       ooo  ooo\n",
        "          ********          ++++       oooooooo\n",
        "\n",
        "```"
      ]
    },
    {
      "cell_type": "code",
      "execution_count": 221,
      "metadata": {
        "id": "khGMFSgelq4v"
      },
      "outputs": [],
      "source": [
        "# Idea tentativa, agregar el valor de trnc=T/F, si quiere un multiplo exacto del patron, es decir, nomas imprimir si esta completa la figura\n",
        "def patron(p,n):\n",
        "  k=0\n",
        "  if p==1 and n>=4: #Triangulo\n",
        "    for i in range(1,n+1):\n",
        "      k+=1\n",
        "      print(k*\"*\")\n",
        "      if k==8: # Si se completó el patron, volver a iniciar\n",
        "        k=0\n",
        "  elif p==2 and n>=4: #Rectangulo\n",
        "    for i in range(1,n+1):\n",
        "      k+=1\n",
        "      if k<=4:\n",
        "        print(4*\"+\")\n",
        "      elif k<=8:\n",
        "        print(3*\" \",4*\"+\")\n",
        "      else:\n",
        "        k=0\n",
        "  elif ptrn==3 and n>=4: #Rombo\n",
        "    for i in range(1,n+2):\n",
        "      k+=1\n",
        "      if k<=4:\n",
        "        lf=5-k\n",
        "        print(lf*\"o\"+2*(k-1)*\" \"+lf*\"o\")\n",
        "      elif k<=8:\n",
        "        print(lf*\"o\"+2*(4-lf)*\" \"+lf*\"o\")\n",
        "        lf+=1\n",
        "      else:\n",
        "        k=0\n",
        "  else:\n",
        "    print(\"Favor de elegir un patron valido y/o dimension mayor a 4\")"
      ]
    },
    {
      "cell_type": "code",
      "execution_count": 222,
      "metadata": {
        "colab": {
          "base_uri": "https://localhost:8080/"
        },
        "id": "Q9hQsgtzlq4v",
        "outputId": "bf55c985-2b07-482c-d083-28b07e481e91"
      },
      "outputs": [
        {
          "output_type": "stream",
          "name": "stdout",
          "text": [
            "*\n",
            "**\n",
            "***\n",
            "****\n",
            "*****\n",
            "******\n",
            "*******\n",
            "********\n",
            "++++\n",
            "++++\n",
            "++++\n",
            "++++\n",
            "    ++++\n",
            "    ++++\n",
            "    ++++\n",
            "    ++++\n",
            "oooooooo\n",
            "ooo  ooo\n",
            "oo    oo\n",
            "o      o\n",
            "o      o\n",
            "oo    oo\n",
            "ooo  ooo\n",
            "oooooooo\n"
          ]
        }
      ],
      "source": [
        "#Realiza pruebas aquí\n",
        "ptrn=1\n",
        "dim=8\n",
        "patron(ptrn,dim)\n",
        "ptrn=2\n",
        "dim=8\n",
        "patron(ptrn,dim)\n",
        "ptrn=3\n",
        "dim=8\n",
        "patron(ptrn,dim)"
      ]
    },
    {
      "cell_type": "markdown",
      "metadata": {
        "id": "HMbOmQ_wlq4v"
      },
      "source": [
        "### Clases y objetos\n",
        "\n",
        "Diseña una clase Matriz con las siguientes características:\n",
        "\n",
        "1. Como inicialización de un objeto es necesario conocer $n$, $m$ y tipo. En caso de no proporcionar $m$ la matriz se asume cuadrada de $n \\times n$. En caso de no proporcionar $n$ la matriz tendrá una dimensión de $1 \\times 1$.\n",
        "2. De no especificarse todos los elementos se inicializan a 0, a menos que exista un tipo especial ( `unos` o `diag` por el momento).\n",
        "3. Implementa con sobrecarga la suma de matrices, la multiplicación de matrices y la multiplicación por un escalar.\n",
        "4. Implementa como métodos eliminar columna y eliminar fila.   \n",
        "5. Programa la representación visual de la matriz.\n",
        "6. Ten en cuenta tambien el manejo de errores.\n",
        "\n",
        "\n",
        "Ejemplo de uso:\n",
        "\n",
        "```\n",
        ">>> A = Matriz(n=3, m=4)\n",
        "\n",
        ">>> print(A)\n",
        "0 0 0 0\n",
        "0 0 0 0\n",
        "0 0 0 0\n",
        "\n",
        ">>> A = A.quitafila(2)\n",
        "\n",
        ">>> print(A)\n",
        "0 0 0 0\n",
        "0 0 0 0\n",
        "\n",
        ">>> B = Matriz(4,4,'diag')\n",
        "\n",
        ">>> print(B)\n",
        "1 0 0 0\n",
        "0 1 0 0\n",
        "0 0 1 0\n",
        "0 0 0 1\n",
        "\n",
        ">>> C = Matriz(4,1,'unos')\n",
        "\n",
        ">>> print(C)\n",
        "1\n",
        "1\n",
        "1\n",
        "1\n",
        "\n",
        ">>> D = 3 * B * C\n",
        "\n",
        ">>> print(D)\n",
        "3\n",
        "3\n",
        "3\n",
        "3\n",
        "\n",
        ">>> E = 3 * B + C\n",
        "error \"No seas menso, si no son de la misma dimensión las matrices no se pueden sumar\"\n",
        "```"
      ]
    },
    {
      "cell_type": "code",
      "execution_count": 217,
      "metadata": {
        "id": "Qv0k-CTclUFs"
      },
      "outputs": [],
      "source": [
        "import copy #por si aun no se ha importado\n",
        "class Matriz:\n",
        "  def __init__(self,n=1,m=1,tipo=None,nl=None,ml=None,nml=None):\n",
        "    if n==0 or m==0:\n",
        "      raise Exception(\"Introducir dimensiones validas\") # Mandar error si ponen una dimension = 0\n",
        "    else:\n",
        "      self.n = n if n != 0 else 1 # Renglones\n",
        "      self.m = m if m != 0 else self.n # Columnas\n",
        "      self.tipo= tipo if tipo is not None else \"ceros\"\n",
        "      n_val= nl if nl is not None else []\n",
        "      m_val= ml if ml is not None else []\n",
        "      nm_val= nml if nml is not None else []\n",
        "      if tipo==\"unos\" or tipo==None:\n",
        "        for i in range(self.m): # Generar primer renglon (a base de la dimension de columnas)\n",
        "          n_val.append(1) if tipo==\"unos\" else n_val.append(0)\n",
        "        for i in range(self.n): # Generar columnas (en base a dimension de renglones)\n",
        "          nm_val.append(copy.deepcopy(n_val))\n",
        "      if tipo==\"diag\":\n",
        "        for i1 in range(self.m): # Tomamos de referencia el numero de columna\n",
        "          nm_val.append([1]) if i1==0 else nm_val.append([0]) # Se genera la fila de columnas\n",
        "          for i2 in range(self.n-1): # Tomamos en cuenta el numero de fila (sin contar la primera)\n",
        "            nm_val[i1].append(1) if i1==i2+1 else nm_val[i1].append(0) # A cada columna, se le agrega elementos por fila\n",
        "      self.value=nm_val\n",
        "\n",
        "  def delcol(self,n=0): #donde n es la columna a quitar\n",
        "    if n==0:\n",
        "      print(\"Ninguna columna ha sido elminiada\")\n",
        "    else:\n",
        "      for x in range(len(self.value)):\n",
        "         self.value[x].pop(n-1)\n",
        "      print(f\"La columna {n} ha sido elminada\\n\")\n",
        "\n",
        "  def delrow(self,n=0): #donde n es la fila a quitar\n",
        "    if n==0:\n",
        "      print(\"Ninguna fila ha sido elminiada\")\n",
        "    elif n>len(self.value):\n",
        "      print(\"Dimensiones insuficientes\")\n",
        "    else:\n",
        "      self.value.pop(n-1)\n",
        "      print(f\"La fila {n} ha sido elminada\\n\")\n",
        "\n",
        "  def __add__(self,other):\n",
        "    if (self.n!=other.n)or(self.m!=other.m):\n",
        "      raise Exception(\"Matrices de dimensiones distintas\")\n",
        "    else:\n",
        "      nm_sum=Matriz(self.n,self.m) # Matriz de la suma\n",
        "      nm_sum.value = [ [ self.value[i1][i2] + other.value[i1][i2] for i1 in range(nm_sum.n) ] for i2 in range(nm_sum.m) ]\n",
        "      return nm_sum\n",
        "\n",
        "  def __mul__(self,other):\n",
        "    if type(other) == int:\n",
        "      nm_mul=Matriz(self.n,self.m) # Matriz de multiplicar por escalar\n",
        "      nm_mul.value = [ [ self.value[i1][i2]*other for i1 in range(nm_mul.n) ] for i2 in range(nm_mul.m) ]\n",
        "      return nm_mul\n",
        "    if (self.m!=other.n):\n",
        "      raise Exception(f\"Las columnas de {self}({self.m}) no coincide con las filas de {other}({other.n})\")\n",
        "    if type(other) == Matriz:\n",
        "      nm_mul=Matriz(self.n,other.m) # Matriz de multiplicar por escalar\n",
        "      for i1 in range(nm_mul.n):\n",
        "        for i2 in range(nm_mul.m):\n",
        "          for j1 in range(other.n):\n",
        "            nm_mul.value[i1][i2] += self.value[i1][j1] * other.value[j1][i2]\n",
        "      return nm_mul\n",
        "\n",
        "      nm_sum=Matriz(self.n,self.m) # Matriz de multiplicacion\n",
        "      nm_sum.value = [ [ self.value[i1][i2] + other.value[i1][i2] for i1 in range(nm_sum.n) ] for i2 in range(nm_sum.m) ]\n",
        "      return nm_sum\n",
        "\n",
        "  def __rmul__(self, other):\n",
        "    return self.__mul__(other)\n",
        "\n",
        "  def __str__(self):\n",
        "    for x in range(len(self.value)):\n",
        "      print(*self.value[x], sep=\" \")\n",
        "    return \"\" #imprimir cada elemento de una lista, luego pasarse al siguiente objeto de la lista"
      ]
    },
    {
      "cell_type": "code",
      "execution_count": 218,
      "metadata": {
        "colab": {
          "base_uri": "https://localhost:8080/",
          "height": 731
        },
        "id": "h8g0CATYlq4w",
        "outputId": "33144d1d-a3d6-4b0f-d402-2e52c4593d53"
      },
      "outputs": [
        {
          "output_type": "stream",
          "name": "stdout",
          "text": [
            "A = 0 0 0 0\n",
            "0 0 0 0\n",
            "0 0 0 0\n",
            "\n",
            "La fila 2 ha sido elminada\n",
            "\n",
            "A =  0 0 0 0\n",
            "0 0 0 0\n",
            "\n",
            "B =  1 0 0 0\n",
            "0 1 0 0\n",
            "0 0 1 0\n",
            "0 0 0 1\n",
            "\n",
            "C = 1\n",
            "1\n",
            "1\n",
            "1\n",
            "\n",
            "D =  3\n",
            "3\n",
            "3\n",
            "3\n",
            "\n"
          ]
        },
        {
          "output_type": "error",
          "ename": "Exception",
          "evalue": "Matrices de dimensiones distintas",
          "traceback": [
            "\u001b[0;31m---------------------------------------------------------------------------\u001b[0m",
            "\u001b[0;31mException\u001b[0m                                 Traceback (most recent call last)",
            "\u001b[0;32m<ipython-input-218-7504e4f9f3f5>\u001b[0m in \u001b[0;36m<cell line: 19>\u001b[0;34m()\u001b[0m\n\u001b[1;32m     17\u001b[0m \u001b[0mprint\u001b[0m\u001b[0;34m(\u001b[0m\u001b[0;34m'D = '\u001b[0m\u001b[0;34m,\u001b[0m \u001b[0mD\u001b[0m\u001b[0;34m)\u001b[0m\u001b[0;34m\u001b[0m\u001b[0;34m\u001b[0m\u001b[0m\n\u001b[1;32m     18\u001b[0m \u001b[0;34m\u001b[0m\u001b[0m\n\u001b[0;32m---> 19\u001b[0;31m \u001b[0mE\u001b[0m \u001b[0;34m=\u001b[0m \u001b[0;36m3\u001b[0m \u001b[0;34m*\u001b[0m \u001b[0mB\u001b[0m \u001b[0;34m+\u001b[0m \u001b[0mC\u001b[0m\u001b[0;34m\u001b[0m\u001b[0;34m\u001b[0m\u001b[0m\n\u001b[0m\u001b[1;32m     20\u001b[0m \u001b[0mprint\u001b[0m\u001b[0;34m(\u001b[0m\u001b[0;34m'E = '\u001b[0m\u001b[0;34m,\u001b[0m \u001b[0mE\u001b[0m\u001b[0;34m)\u001b[0m\u001b[0;34m\u001b[0m\u001b[0;34m\u001b[0m\u001b[0m\n",
            "\u001b[0;32m<ipython-input-217-1b934c1db2cb>\u001b[0m in \u001b[0;36m__add__\u001b[0;34m(self, other)\u001b[0m\n\u001b[1;32m     42\u001b[0m   \u001b[0;32mdef\u001b[0m \u001b[0m__add__\u001b[0m\u001b[0;34m(\u001b[0m\u001b[0mself\u001b[0m\u001b[0;34m,\u001b[0m\u001b[0mother\u001b[0m\u001b[0;34m)\u001b[0m\u001b[0;34m:\u001b[0m\u001b[0;34m\u001b[0m\u001b[0;34m\u001b[0m\u001b[0m\n\u001b[1;32m     43\u001b[0m     \u001b[0;32mif\u001b[0m \u001b[0;34m(\u001b[0m\u001b[0mself\u001b[0m\u001b[0;34m.\u001b[0m\u001b[0mn\u001b[0m\u001b[0;34m!=\u001b[0m\u001b[0mother\u001b[0m\u001b[0;34m.\u001b[0m\u001b[0mn\u001b[0m\u001b[0;34m)\u001b[0m\u001b[0;32mor\u001b[0m\u001b[0;34m(\u001b[0m\u001b[0mself\u001b[0m\u001b[0;34m.\u001b[0m\u001b[0mm\u001b[0m\u001b[0;34m!=\u001b[0m\u001b[0mother\u001b[0m\u001b[0;34m.\u001b[0m\u001b[0mm\u001b[0m\u001b[0;34m)\u001b[0m\u001b[0;34m:\u001b[0m\u001b[0;34m\u001b[0m\u001b[0;34m\u001b[0m\u001b[0m\n\u001b[0;32m---> 44\u001b[0;31m       \u001b[0;32mraise\u001b[0m \u001b[0mException\u001b[0m\u001b[0;34m(\u001b[0m\u001b[0;34m\"Matrices de dimensiones distintas\"\u001b[0m\u001b[0;34m)\u001b[0m\u001b[0;34m\u001b[0m\u001b[0;34m\u001b[0m\u001b[0m\n\u001b[0m\u001b[1;32m     45\u001b[0m     \u001b[0;32melse\u001b[0m\u001b[0;34m:\u001b[0m\u001b[0;34m\u001b[0m\u001b[0;34m\u001b[0m\u001b[0m\n\u001b[1;32m     46\u001b[0m       \u001b[0mnm_sum\u001b[0m\u001b[0;34m=\u001b[0m\u001b[0mMatriz\u001b[0m\u001b[0;34m(\u001b[0m\u001b[0mself\u001b[0m\u001b[0;34m.\u001b[0m\u001b[0mn\u001b[0m\u001b[0;34m,\u001b[0m\u001b[0mself\u001b[0m\u001b[0;34m.\u001b[0m\u001b[0mm\u001b[0m\u001b[0;34m)\u001b[0m \u001b[0;31m# Matriz de la suma\u001b[0m\u001b[0;34m\u001b[0m\u001b[0;34m\u001b[0m\u001b[0m\n",
            "\u001b[0;31mException\u001b[0m: Matrices de dimensiones distintas"
          ]
        }
      ],
      "source": [
        "# Realiza las pruebas a la clase aquí\n",
        "\n",
        "A = Matriz(n=3, m=4)\n",
        "print('A =', A)\n",
        "\n",
        "#A = A.delrow(2)\n",
        "A.delrow(2)\n",
        "print('A = ', A)\n",
        "\n",
        "B = Matriz(4,4,'diag')\n",
        "print('B = ', B)\n",
        "\n",
        "C = Matriz(4,1,'unos')\n",
        "print('C =', C)\n",
        "\n",
        "D = 3 * B * C\n",
        "print('D = ', D)\n",
        "\n",
        "E = 3 * B + C\n",
        "print('E = ', E)"
      ]
    }
  ],
  "metadata": {
    "colab": {
      "collapsed_sections": [
        "SjCDNLxS9_r2",
        "Iy_zxMyA-CVc",
        "I-tbqzY3lq4p"
      ],
      "provenance": []
    },
    "kernelspec": {
      "display_name": "ing-caract",
      "language": "python",
      "name": "python3"
    },
    "language_info": {
      "codemirror_mode": {
        "name": "ipython",
        "version": 3
      },
      "file_extension": ".py",
      "mimetype": "text/x-python",
      "name": "python",
      "nbconvert_exporter": "python",
      "pygments_lexer": "ipython3",
      "version": "3.8.13"
    }
  },
  "nbformat": 4,
  "nbformat_minor": 0
}